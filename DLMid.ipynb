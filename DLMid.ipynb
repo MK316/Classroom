{
  "nbformat": 4,
  "nbformat_minor": 0,
  "metadata": {
    "colab": {
      "provenance": [],
      "authorship_tag": "ABX9TyNeEGoikTHH1lv/UJpVhKxN",
      "include_colab_link": true
    },
    "kernelspec": {
      "name": "python3",
      "display_name": "Python 3"
    },
    "language_info": {
      "name": "python"
    }
  },
  "cells": [
    {
      "cell_type": "markdown",
      "metadata": {
        "id": "view-in-github",
        "colab_type": "text"
      },
      "source": [
        "<a href=\"https://colab.research.google.com/github/MK316/Classroom/blob/main/DLMid.ipynb\" target=\"_parent\"><img src=\"https://colab.research.google.com/assets/colab-badge.svg\" alt=\"Open In Colab\"/></a>"
      ]
    },
    {
      "cell_type": "markdown",
      "source": [
        "# Part I: Using a Google form"
      ],
      "metadata": {
        "id": "PQWBqShrvmpB"
      }
    },
    {
      "cell_type": "code",
      "execution_count": null,
      "metadata": {
        "id": "TgK1f7vsvLvD"
      },
      "outputs": [],
      "source": []
    },
    {
      "cell_type": "markdown",
      "source": [
        "# Part II: Coding in Colab"
      ],
      "metadata": {
        "id": "uG7ryUj1vrAd"
      }
    },
    {
      "cell_type": "markdown",
      "source": [
        "##**Instructions**"
      ],
      "metadata": {
        "id": "Nvk-6cX5vzGf"
      }
    },
    {
      "cell_type": "markdown",
      "source": [
        "Q1."
      ],
      "metadata": {
        "id": "PcXue4xzv-Yw"
      }
    },
    {
      "cell_type": "code",
      "source": [],
      "metadata": {
        "id": "giTXfqgOwC0O"
      },
      "execution_count": null,
      "outputs": []
    }
  ]
}