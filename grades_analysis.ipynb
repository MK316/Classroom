{
  "nbformat": 4,
  "nbformat_minor": 0,
  "metadata": {
    "colab": {
      "name": "grades_analysis.ipynb",
      "provenance": [],
      "authorship_tag": "ABX9TyORNJ6Ox+xoHyL4eyo1MCkA",
      "include_colab_link": true
    },
    "kernelspec": {
      "name": "python3",
      "display_name": "Python 3"
    },
    "language_info": {
      "name": "python"
    }
  },
  "cells": [
    {
      "cell_type": "markdown",
      "metadata": {
        "id": "view-in-github",
        "colab_type": "text"
      },
      "source": [
        "<a href=\"https://colab.research.google.com/github/MK316/Classroom/blob/main/grades_analysis.ipynb\" target=\"_parent\"><img src=\"https://colab.research.google.com/assets/colab-badge.svg\" alt=\"Open In Colab\"/></a>"
      ]
    },
    {
      "cell_type": "markdown",
      "source": [
        "# Grade analysis"
      ],
      "metadata": {
        "id": "UV_BUE1gPJQR"
      }
    },
    {
      "cell_type": "code",
      "source": [
        "import pandas as pd\n",
        "import io\n",
        "import numpy as np"
      ],
      "metadata": {
        "id": "d9B0FDIUPrbz"
      },
      "execution_count": 1,
      "outputs": []
    },
    {
      "cell_type": "code",
      "source": [
        "# from google.colab import files\n",
        "# uploaded = files.upload()\n",
        "# type(uploaded)"
      ],
      "metadata": {
        "id": "CTNzD1MdP4tn"
      },
      "execution_count": 2,
      "outputs": []
    },
    {
      "cell_type": "code",
      "source": [
        "# Read csv file uploaded as pandas dataframe\n",
        "df1 = pd.read_csv(\"https://raw.githubusercontent.com/MK316/Classroom/main/classdata/midterm.csv\")\n",
        "df1.describe()"
      ],
      "metadata": {
        "id": "sDhXDxMLQFzu"
      },
      "execution_count": null,
      "outputs": []
    },
    {
      "cell_type": "code",
      "source": [
        "#@markdown Skip (colum modification) - Commented out\n",
        "\n",
        "# Before = df1['1ST']\n",
        "# After = df1['2nd']\n",
        "# df3 = pd.DataFrame({'Retake':df1['Retake'],'Before':Before, 'After':After})\n",
        "# df3.tail()"
      ],
      "metadata": {
        "id": "m7W3Q000trhg",
        "cellView": "form"
      },
      "execution_count": 6,
      "outputs": []
    },
    {
      "cell_type": "code",
      "source": [
        "#@markdown By group (students who retook the exam)\n",
        "Rgroup = df1[df1['Retake'] == \"YES\"]\n",
        "Ngroup = df1[df1['Retake'] == \"NO\"]\n",
        "\n",
        "Rgroup = Rgroup[['Before','After']]\n",
        "Ngroup = Ngroup[['Before','After']]\n",
        "\n",
        "Rgroup.describe()"
      ],
      "metadata": {
        "id": "0CeHgqGKt1iL",
        "cellView": "form"
      },
      "execution_count": null,
      "outputs": []
    },
    {
      "cell_type": "markdown",
      "source": [
        "## Plotting with {matplotlib.pyplot}"
      ],
      "metadata": {
        "id": "ce-GBJHiQr7Z"
      }
    },
    {
      "cell_type": "code",
      "source": [
        "import matplotlib.pyplot as plt"
      ],
      "metadata": {
        "id": "9CqyS3o76_JH"
      },
      "execution_count": 9,
      "outputs": []
    },
    {
      "cell_type": "code",
      "source": [
        "df1['Index'] = df1['Unnamed: 0']\n",
        "df1"
      ],
      "metadata": {
        "id": "7kc4nn0u7nky"
      },
      "execution_count": null,
      "outputs": []
    },
    {
      "cell_type": "code",
      "source": [
        "#@markdown Drop specific columns:  (Commented out)\n",
        "# df2 = df1.drop(['Unnamed: 0'],axis=1); df2.tail()\n",
        "# df2['Index'] = range(1,31)\n",
        "# df2.head()\n",
        "\n",
        "# df2.to_csv('midterm.csv',index = False)"
      ],
      "metadata": {
        "id": "QqcHapaywA4K"
      },
      "execution_count": 17,
      "outputs": []
    },
    {
      "cell_type": "code",
      "source": [
        "df = df1\n",
        "ax = df.plot(kind='scatter', x='Index', y='Before', color='DarkBlue', label='Group 1');\n",
        "\n",
        "df.plot(kind='scatter', x='Index', y='After', color='Red', label='Group 2', ax=ax);"
      ],
      "metadata": {
        "id": "79SURsrS7Ftm"
      },
      "execution_count": null,
      "outputs": []
    },
    {
      "cell_type": "code",
      "source": [
        "df['Obefore'] = sorted(df1['Before'])\n",
        "df['Oafter'] = sorted(df1['After'])\n",
        "df"
      ],
      "metadata": {
        "id": "Mfn1nNYC9egP"
      },
      "execution_count": null,
      "outputs": []
    },
    {
      "cell_type": "code",
      "source": [
        "ax = df.plot(kind='scatter', x='Index', y='Obefore', color='DarkBlue', label='Group 1');\n",
        "\n",
        "df.plot(kind='scatter', x='Index', y='Oafter', color='Red', label='Group 2', ax=ax);"
      ],
      "metadata": {
        "id": "xCVhJzG-649q"
      },
      "execution_count": null,
      "outputs": []
    },
    {
      "cell_type": "code",
      "source": [
        "before = df['Before']\n",
        "after = df['After']"
      ],
      "metadata": {
        "id": "fyPupbar_5kc"
      },
      "execution_count": 22,
      "outputs": []
    },
    {
      "cell_type": "markdown",
      "source": [
        "## Boxplot"
      ],
      "metadata": {
        "id": "JBF4vgmy-hM8"
      }
    },
    {
      "cell_type": "code",
      "source": [
        "fig1, ax1 = plt.subplots()\n",
        "ax1.set_title('Before')\n",
        "ax1.boxplot(before)"
      ],
      "metadata": {
        "colab": {
          "base_uri": "https://localhost:8080/",
          "height": 430
        },
        "id": "vphuaEhm-jJY",
        "outputId": "d468ef1a-53dc-458e-dcaf-c12b50500488"
      },
      "execution_count": 23,
      "outputs": [
        {
          "output_type": "execute_result",
          "data": {
            "text/plain": [
              "{'boxes': [<matplotlib.lines.Line2D at 0x7fa097fba090>],\n",
              " 'caps': [<matplotlib.lines.Line2D at 0x7fa097fc0050>,\n",
              "  <matplotlib.lines.Line2D at 0x7fa097fc0590>],\n",
              " 'fliers': [<matplotlib.lines.Line2D at 0x7fa097fc6090>],\n",
              " 'means': [],\n",
              " 'medians': [<matplotlib.lines.Line2D at 0x7fa097fc0b10>],\n",
              " 'whiskers': [<matplotlib.lines.Line2D at 0x7fa097fba590>,\n",
              "  <matplotlib.lines.Line2D at 0x7fa097fbaad0>]}"
            ]
          },
          "metadata": {},
          "execution_count": 23
        },
        {
          "output_type": "display_data",
          "data": {
            "text/plain": [
              "<Figure size 432x288 with 1 Axes>"
            ],
            "image/png": "[encoded data removed]"
          },
          "metadata": {
            "needs_background": "light"
          }
        }
      ]
    },
    {
      "cell_type": "code",
      "source": [
        "fig1, ax1 = plt.subplots()\n",
        "ax1.set_title('After')\n",
        "ax1.boxplot(after)"
      ],
      "metadata": {
        "colab": {
          "base_uri": "https://localhost:8080/",
          "height": 430
        },
        "id": "xlCl8aDeA7X7",
        "outputId": "80391314-5daf-411b-de86-fad341d99bfb"
      },
      "execution_count": 24,
      "outputs": [
        {
          "output_type": "execute_result",
          "data": {
            "text/plain": [
              "{'boxes': [<matplotlib.lines.Line2D at 0x7fa097fabf10>],\n",
              " 'caps': [<matplotlib.lines.Line2D at 0x7fa097fb3f10>,\n",
              "  <matplotlib.lines.Line2D at 0x7fa097f3b490>],\n",
              " 'fliers': [<matplotlib.lines.Line2D at 0x7fa097f3bf50>],\n",
              " 'means': [],\n",
              " 'medians': [<matplotlib.lines.Line2D at 0x7fa097f3ba10>],\n",
              " 'whiskers': [<matplotlib.lines.Line2D at 0x7fa097fb3490>,\n",
              "  <matplotlib.lines.Line2D at 0x7fa097fb39d0>]}"
            ]
          },
          "metadata": {},
          "execution_count": 24
        },
        {
          "output_type": "display_data",
          "data": {
            "text/plain": [
              "<Figure size 432x288 with 1 Axes>"
            ],
            "image/png": "[encoded data removed]"
          },
          "metadata": {
            "needs_background": "light"
          }
        }
      ]
    }
  ]
}