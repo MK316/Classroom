{
  "nbformat": 4,
  "nbformat_minor": 0,
  "metadata": {
    "colab": {
      "provenance": [],
      "authorship_tag": "ABX9TyMZvOwXItVQZV5s27+S9/Rb",
      "include_colab_link": true
    },
    "kernelspec": {
      "name": "python3",
      "display_name": "Python 3"
    },
    "language_info": {
      "name": "python"
    }
  },
  "cells": [
    {
      "cell_type": "markdown",
      "metadata": {
        "id": "view-in-github",
        "colab_type": "text"
      },
      "source": [
        "<a href=\"https://colab.research.google.com/github/MK316/Classroom/blob/main/teacherdata/dleemid.ipynb\" target=\"_parent\"><img src=\"https://colab.research.google.com/assets/colab-badge.svg\" alt=\"Open In Colab\"/></a>"
      ]
    },
    {
      "cell_type": "markdown",
      "source": [
        "# Practice"
      ],
      "metadata": {
        "id": "FdLIWSwDkiH0"
      }
    },
    {
      "cell_type": "markdown",
      "source": [
        "# Q1."
      ],
      "metadata": {
        "id": "GeW_-GQekmYP"
      }
    },
    {
      "cell_type": "markdown",
      "source": [
        "## Instructions\n",
        "\n",
        "1. Use input() to ask two numbers.\n",
        "2. Use the prompt: **Enter the first number:**, and **Enter the second number:**\n",
        "3. Print the result using print() in the following format: **The sum of {number1} and {number2} is {sum}.**\n",
        "\n",
        "🌀 When done, test with two numbers 17 and 8. The output should be **The sum of 17 and 8 is 25**"
      ],
      "metadata": {
        "id": "AYnUTS9KIkNK"
      }
    },
    {
      "cell_type": "code",
      "source": [
        "# Write your codes here\n"
      ],
      "metadata": {
        "id": "non-2J9-J4kd"
      },
      "execution_count": null,
      "outputs": []
    },
    {
      "cell_type": "markdown",
      "source": [
        "# Q2."
      ],
      "metadata": {
        "id": "RFB2IGoAkxNs"
      }
    },
    {
      "cell_type": "markdown",
      "source": [
        "## Instructions\n",
        "\n",
        "1. Prompt for a word using input() with: **Enter a word: .**\n",
        "2. Prompt for a number with: **How many times to repeat: .**\n",
        "3. The output should print the repeated word.\n",
        "\n",
        "🌀 Use a word **great** and make it repeat **5** times.\n",
        "\n",
        "🌀 Expected output: **Great great great great great!**\n",
        "\n",
        "\n",
        "**Note** that the first letter should be in capital and the exclamation mark (!) should appear at the end, and the space should appear as illustrated in the Expected output.\n"
      ],
      "metadata": {
        "id": "cI132KN7J5xR"
      }
    },
    {
      "cell_type": "code",
      "source": [
        "# Write your codes here\n"
      ],
      "metadata": {
        "id": "s65kgLIDOODv"
      },
      "execution_count": null,
      "outputs": []
    },
    {
      "cell_type": "markdown",
      "source": [
        "# Q3."
      ],
      "metadata": {
        "id": "QUB7dQd_k5WS"
      }
    },
    {
      "cell_type": "markdown",
      "source": [
        "## Instructions\n",
        "\n",
        "Vocabulary list\n",
        "\n",
        "+ Ask for a comma-separated list of words using input() with the prompt: **Enter words separated by commas:**\n",
        "+ Split the string into a list of words\n",
        "+ Iterate over the list and print each word on a new line.\n",
        "\n",
        "🌀 For example,\n",
        "\n",
        "```\n",
        "Enter words separated by commas: apple, orange, watermelon, strawberry\"\n",
        "\n",
        "apple       # This is the output\n",
        "orange  \n",
        "watermelon  \n",
        "strawberry\n",
        "```"
      ],
      "metadata": {
        "id": "sAxkdZb6OOgV"
      }
    },
    {
      "cell_type": "code",
      "source": [
        "# Write your codes here\n"
      ],
      "metadata": {
        "id": "u_ObVQFkP0Lu"
      },
      "execution_count": null,
      "outputs": []
    },
    {
      "cell_type": "markdown",
      "source": [
        "# Q4."
      ],
      "metadata": {
        "id": "CC5X-uVok-zM"
      }
    },
    {
      "cell_type": "markdown",
      "source": [
        "## Task Instructions:\n",
        "\n",
        "+ Use input() to ask the user for a word with: Enter a word: .\n",
        "+ Ask for its meaning with another input(): Enter its meaning: .\n",
        "+ Store the word and its meaning in a dictionary.\n",
        "+ Print the dictionary.\n",
        "\n",
        "For exampe:\n",
        "```\n",
        "Enter a word: banana\n",
        "Enter its meaning: a type of fruit\n",
        "{'banana': 'a type of fruit'}     # This is the output\n",
        "```"
      ],
      "metadata": {
        "id": "TMbbrFmSP0ld"
      }
    },
    {
      "cell_type": "code",
      "source": [
        "# Write your codes here\n"
      ],
      "metadata": {
        "id": "b81jlGV0QANZ"
      },
      "execution_count": null,
      "outputs": []
    },
    {
      "cell_type": "markdown",
      "source": [
        "# Q5."
      ],
      "metadata": {
        "id": "rW_zLfzqlDCP"
      }
    },
    {
      "cell_type": "markdown",
      "source": [
        "## Instructions\n",
        "\n",
        "+ Ask for a name, a place, and an activity with input() function, using respective prompts.\n",
        "+ Construt a story using the inputs and print the story\n",
        "\n",
        "For exampe:\n",
        "\n",
        "```\n",
        "Enter a name: Mary\n",
        "Enter a place: the beach\n",
        "Enter an activity: read a book\n",
        "\n",
        "One day, Mary went to the beach and read a book there. # This is the output\n",
        "```"
      ],
      "metadata": {
        "id": "fiQWlT0QQn--"
      }
    },
    {
      "cell_type": "code",
      "source": [
        "# Write your codes here\n"
      ],
      "metadata": {
        "id": "rCwZg-eSRncO"
      },
      "execution_count": null,
      "outputs": []
    },
    {
      "cell_type": "markdown",
      "source": [
        "# Q6."
      ],
      "metadata": {
        "id": "RYYfc62PlHtX"
      }
    },
    {
      "cell_type": "markdown",
      "source": [
        "## Instructions\n",
        "\n",
        "Quiz score calculator\n",
        "\n",
        "+ Prompt for three quiz scores using input().\n",
        "+ Calculate the average of the scores.\n",
        "+ Print the average score with two decimal places.\n",
        "\n",
        "```\n",
        "Enter score for quiz 1: 78\n",
        "Enter score for quiz 2: 87\n",
        "Enter score for quiz 3: 90\n",
        "\n",
        "The average score is 85.0   # This is the output\n",
        "```"
      ],
      "metadata": {
        "id": "ekQMHFLHRnwm"
      }
    },
    {
      "cell_type": "code",
      "source": [
        "# Write your codes here\n"
      ],
      "metadata": {
        "id": "HMAU1znCSK9b"
      },
      "execution_count": null,
      "outputs": []
    },
    {
      "cell_type": "markdown",
      "source": [
        "# Q7."
      ],
      "metadata": {
        "id": "kjQDqJe6lNAX"
      }
    },
    {
      "cell_type": "markdown",
      "source": [
        "## Instructions\n",
        "\n",
        "Making a verb to a past tense form '-ed' (regular verb only)\n",
        "\n",
        "+ Ask for an English verb using input(): **Enter a verb:**\n",
        "+ Append \"ed\" to the verb to form the past tense.\n",
        "+ Print the past tense verb\n",
        "\n",
        "```\n",
        "Enter a verb: kick\n",
        "The past tense of 'kick' is 'kicked'.     # This is the output\n",
        "```"
      ],
      "metadata": {
        "id": "SCdZZKYWSW8p"
      }
    },
    {
      "cell_type": "code",
      "source": [
        "# Write your codes here\n"
      ],
      "metadata": {
        "id": "K5hNWGmBlUSK"
      },
      "execution_count": null,
      "outputs": []
    },
    {
      "cell_type": "markdown",
      "source": [
        "# Q8."
      ],
      "metadata": {
        "id": "vIJaD5IXlVJb"
      }
    },
    {
      "cell_type": "markdown",
      "source": [
        "## Instructions\n",
        "\n",
        "Note: import **random** package and use **random.sample(x, n)** function for the following task.\n",
        "\n",
        "\n",
        "+ Ask the user to input a word: Enter a word: .\n",
        "+ Scramble the letters of the word. (This example will reverse the word for simplicity.)\n",
        "+ Print the scrambled word.\n",
        "\n",
        "```\n",
        "Enter a word: great\n",
        "Say a possible word with letters 'e-r-t-a-g'.     # This is the output\n",
        "```"
      ],
      "metadata": {
        "id": "yMjONHcQToyC"
      }
    },
    {
      "cell_type": "code",
      "source": [
        "# Write your codes here\n"
      ],
      "metadata": {
        "id": "8JvrpnpglZu9"
      },
      "execution_count": null,
      "outputs": []
    },
    {
      "cell_type": "markdown",
      "source": [
        "# Q9."
      ],
      "metadata": {
        "id": "qoiYst8rlacz"
      }
    },
    {
      "cell_type": "markdown",
      "source": [
        "## Instructions\n",
        "\n",
        "+ Ask the user to enter a word.\n",
        "+ Then, ask for three synonyms of that word, separated by commas.\n",
        "+ Store the synonyms in a list and print the list.\n",
        "\n",
        "```\n",
        "Enter a word: good\n",
        "Enter two antonyms, separated by commas: bad, inferior\n",
        "The antonyms of 'good': bad, inferior      # This is the output\n",
        "```"
      ],
      "metadata": {
        "id": "ZArlwqoAVV0G"
      }
    },
    {
      "cell_type": "code",
      "source": [
        "# Write your codes here\n"
      ],
      "metadata": {
        "id": "_0tKSUn5UKzG"
      },
      "execution_count": null,
      "outputs": []
    },
    {
      "cell_type": "markdown",
      "source": [
        "# Q10."
      ],
      "metadata": {
        "id": "wP8_hd6Plfa3"
      }
    },
    {
      "cell_type": "markdown",
      "source": [
        "## Instructions\n",
        "\n",
        "+ Create an empty dictionary to hold student names and scores.\n",
        "+ Ask the user to enter a student's name and their score.\n",
        "+ Print the updated dictionary.\n",
        "\n",
        "```\n",
        "Enter the student's name: Mary\n",
        "Enter the student's score: 78\n",
        "{'Mary': 78}      # This is the output\n",
        "```"
      ],
      "metadata": {
        "id": "inisA3DQV15g"
      }
    },
    {
      "cell_type": "code",
      "source": [
        "# Write your codes here\n"
      ],
      "metadata": {
        "id": "llam2ZKUV5Gb"
      },
      "execution_count": null,
      "outputs": []
    },
    {
      "cell_type": "markdown",
      "source": [
        "# Q11."
      ],
      "metadata": {
        "id": "Kimxt_OvlkHz"
      }
    },
    {
      "cell_type": "markdown",
      "source": [
        "## Instructions\n",
        "\n",
        "+ Given a list of words, create a new list containing only words that are longer than 5 letters.\n",
        "+ Print the new list.\n",
        "\n",
        "```\n",
        "Enter 5 words: apple, bat, cat, elephant, giraffe\n",
        "Words longer than 5 letters: ['elephant', 'giraffe']   # This is the output\n",
        "```"
      ],
      "metadata": {
        "id": "uUHfUWoZWlr7"
      }
    },
    {
      "cell_type": "code",
      "source": [
        "# Write your codes here\n"
      ],
      "metadata": {
        "id": "cyDzDH_eXJ57"
      },
      "execution_count": null,
      "outputs": []
    },
    {
      "cell_type": "markdown",
      "source": [
        "# Q12."
      ],
      "metadata": {
        "id": "fkl7Txgiln4S"
      }
    },
    {
      "cell_type": "markdown",
      "source": [
        "## Instructions\n",
        "\n",
        "Print unique words from a list\n",
        "\n",
        "+ Given the list of words, create a new list that contains each word only once.\n",
        "> word list (copy and paste): **apple apple orange strawberry apple pear apple pear cherry cherry pear apple**\n",
        "+ Print the unique words **as a list.**\n",
        "\n",
        "\n",
        "```\n",
        "Enter a word list: apple apple orange strawberry apple pear apple pear cherry cherry pear apple\n",
        "Unique words: ['strawberry', 'cherry', 'apple', 'orange', 'pear']   # This is the output\n",
        "```"
      ],
      "metadata": {
        "id": "jWSRPsIdXorf"
      }
    },
    {
      "cell_type": "code",
      "source": [
        "# Write your codes here\n"
      ],
      "metadata": {
        "colab": {
          "base_uri": "https://localhost:8080/"
        },
        "id": "pieuVu5gYAv1",
        "outputId": "51830660-b016-4573-d2c3-033c55dcf373"
      },
      "execution_count": 23,
      "outputs": [
        {
          "output_type": "stream",
          "name": "stdout",
          "text": [
            "apple apple orange strawberry apple pear apple pear cherry cherry pear apple\n",
            "{'strawberry', 'cherry', 'apple', 'orange', 'pear'}\n"
          ]
        }
      ]
    },
    {
      "cell_type": "markdown",
      "source": [
        "# Q13."
      ],
      "metadata": {
        "id": "duE2uxMSlsw2"
      }
    },
    {
      "cell_type": "markdown",
      "source": [
        "## Instructions\n",
        "\n",
        "Write a Python program that converts a sentence containing a form of the verb \"to be\" (am, is, are, was, were) into a yes-no question.\n",
        "\n",
        "\n",
        "1. Input Statement: Prompt the user to enter a sentence that includes a form of the verb \"to be\". Use the input prompt: Enter a sentence with 'to be' verb: .\n",
        "\n",
        "2. Identify the Verb: Your program should first identify the form of \"to be\" used in the sentence (am, is, are, was, were). Assume the sentence is simple and contains only one form of \"to be\" for simplicity.\n",
        "\n",
        "3. Construct the Question: Rearrange the sentence to form a yes-no question. This typically involves moving the \"to be\" verb to the beginning of the sentence. Ensure the first letter of the resulting question is capitalized, and the question ends with a question mark.\n",
        "\n",
        "4. Output: Print the formed yes-no question.\n",
        "```\n",
        "Enter a sentence: John is honest.\n",
        "Yes-no question: Is John honest?    # This is the output\n",
        "```\n",
        "\n",
        "**Hints:**\n",
        "\n",
        "1. be verb list (is, am, are, was, where)\n",
        "2. set(list1).intersection(set(list2))\n",
        "3. split() function\n",
        "4. Run the code below for your reference"
      ],
      "metadata": {
        "id": "7j6r-knTcwWI"
      }
    },
    {
      "cell_type": "code",
      "source": [
        "# The following codes are hints that you can use for this task\n",
        "\n",
        "mysentence = \"The flower is pretty.\"\n",
        "beverb = ['is','am','aer','was','were']\n",
        "\n",
        "splitted = mysentence.split()\n",
        "\n",
        "target = set(splitted).intersection(set(beverb))\n",
        "target = list(target)\n",
        "target[0]  # 'is'\n",
        "print(target[0][0]) # 'i'\n",
        "\n",
        "print(mysentence[-1])"
      ],
      "metadata": {
        "colab": {
          "base_uri": "https://localhost:8080/"
        },
        "id": "G956pbYfYnCt",
        "outputId": "9786c6f5-4b2a-4948-c14d-5cee3bca1c9f"
      },
      "execution_count": 49,
      "outputs": [
        {
          "output_type": "stream",
          "name": "stdout",
          "text": [
            "i\n",
            ".\n"
          ]
        }
      ]
    },
    {
      "cell_type": "code",
      "source": [
        "# Write your codes here\n"
      ],
      "metadata": {
        "id": "iL0fS2lZkP-A"
      },
      "execution_count": null,
      "outputs": []
    },
    {
      "cell_type": "markdown",
      "source": [
        "# This is the END"
      ],
      "metadata": {
        "id": "uMOcQDsmlyWP"
      }
    },
    {
      "cell_type": "code",
      "source": [],
      "metadata": {
        "id": "rQac1OzwnrLF"
      },
      "execution_count": null,
      "outputs": []
    }
  ]
}