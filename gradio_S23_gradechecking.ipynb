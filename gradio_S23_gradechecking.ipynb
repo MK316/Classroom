{
  "nbformat": 4,
  "nbformat_minor": 0,
  "metadata": {
    "colab": {
      "private_outputs": true,
      "provenance": [],
      "authorship_tag": "ABX9TyM5a1pMfDTzNU8ulgMv/Jb1",
      "include_colab_link": true
    },
    "kernelspec": {
      "name": "python3",
      "display_name": "Python 3"
    },
    "language_info": {
      "name": "python"
    }
  },
  "cells": [
    {
      "cell_type": "markdown",
      "metadata": {
        "id": "view-in-github",
        "colab_type": "text"
      },
      "source": [
        "<a href=\"https://colab.research.google.com/github/MK316/Classroom/blob/main/gradio_S23_gradechecking.ipynb\" target=\"_parent\"><img src=\"https://colab.research.google.com/assets/colab-badge.svg\" alt=\"Open In Colab\"/></a>"
      ]
    },
    {
      "cell_type": "code",
      "source": [
        "!pip install gradio"
      ],
      "metadata": {
        "id": "u9KiyobNJ33_"
      },
      "execution_count": null,
      "outputs": []
    },
    {
      "cell_type": "code",
      "execution_count": null,
      "metadata": {
        "id": "R_cY6JgXI2L4"
      },
      "outputs": [],
      "source": [
        "import pandas as pd\n",
        "import gradio as gr\n",
        "\n",
        "# Load the CSV file\n",
        "df = pd.read_csv('testgrade.csv')\n",
        "\n",
        "# Define a function to search for the passcode and retrieve the corresponding row\n",
        "def search_passcode(passcode):\n",
        "    row = df[df['A'] == passcode]\n",
        "    if len(row) > 0:\n",
        "        return row.values[0][1:]  # Exclude the passcode column\n",
        "    else:\n",
        "        return ['No data found'] * (len(df.columns) - 1)  # Replace with appropriate error message\n",
        "\n",
        "# Create input textbox for the passcode\n",
        "input_passcode = gr.inputs.Textbox(label='Passcode')\n",
        "\n",
        "# Create separate output boxes for each column (except column A)\n",
        "output_columns = []\n",
        "for column in df.columns[1:]:\n",
        "    output_columns.append(gr.outputs.Textbox(label=column))\n",
        "\n",
        "# Create a function to link the input textbox and the search function\n",
        "def get_student_info(passcode):\n",
        "    student_info = search_passcode(passcode)\n",
        "    return tuple(student_info)\n",
        "\n",
        "# Create the Gradio interface\n",
        "iface = gr.Interface(fn=get_student_info, inputs=input_passcode, outputs=output_columns)\n",
        "\n",
        "# Launch the interface\n",
        "iface.launch()\n"
      ]
    }
  ]
}