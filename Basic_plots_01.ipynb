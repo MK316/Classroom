{
  "nbformat": 4,
  "nbformat_minor": 0,
  "metadata": {
    "colab": {
      "name": "Basic_plots_01.ipynb",
      "provenance": [],
      "collapsed_sections": [],
      "authorship_tag": "ABX9TyPQ7t+g3WSy3Z+qgCqIR0AT",
      "include_colab_link": true
    },
    "kernelspec": {
      "name": "python3",
      "display_name": "Python 3"
    },
    "language_info": {
      "name": "python"
    }
  },
  "cells": [
    {
      "cell_type": "markdown",
      "metadata": {
        "id": "view-in-github",
        "colab_type": "text"
      },
      "source": [
        "<a href=\"https://colab.research.google.com/github/MK316/Classroom/blob/main/Basic_plots_01.ipynb\" target=\"_parent\"><img src=\"https://colab.research.google.com/assets/colab-badge.svg\" alt=\"Open In Colab\"/></a>"
      ]
    },
    {
      "cell_type": "markdown",
      "source": [
        "Getting ready: install packages and data"
      ],
      "metadata": {
        "id": "S24j7lWHoEe1"
      }
    },
    {
      "cell_type": "code",
      "source": [
        "#@markdown Import package: {matplotlib.pyplot} {numpy}\n",
        "\n",
        "import matplotlib.pyplot as plt\n",
        "import numpy as np"
      ],
      "metadata": {
        "cellView": "form",
        "id": "xOdIxf2Cgkmb"
      },
      "execution_count": 3,
      "outputs": []
    },
    {
      "cell_type": "code",
      "source": [
        "#@markdown With sample data: random numbers\n",
        "#@markdown >np.random.normal(m, sd, n)\n",
        "\n",
        "x = np.random.normal(50, 15, 100)\n",
        "type(x)\n",
        "\n",
        "#@markdown [1] Histogram: >> plt.hist(x)\n",
        "plt.hist(x, bins=30, range=(0,100))"
      ],
      "metadata": {
        "colab": {
          "base_uri": "https://localhost:8080/",
          "height": 479
        },
        "id": "8ObUzEJzn_W1",
        "outputId": "88ee0b8a-276a-4927-f51a-64b259f4df2a"
      },
      "execution_count": 19,
      "outputs": [
        {
          "output_type": "execute_result",
          "data": {
            "text/plain": [
              "(array([ 0.,  1.,  0.,  0.,  0.,  2.,  1.,  7.,  2.,  2.,  4.,  6.,  7.,\n",
              "         8.,  5., 13., 10., 11.,  8.,  2.,  3.,  2.,  1.,  1.,  2.,  2.,\n",
              "         0.,  0.,  0.,  0.]),\n",
              " array([  0.        ,   3.33333333,   6.66666667,  10.        ,\n",
              "         13.33333333,  16.66666667,  20.        ,  23.33333333,\n",
              "         26.66666667,  30.        ,  33.33333333,  36.66666667,\n",
              "         40.        ,  43.33333333,  46.66666667,  50.        ,\n",
              "         53.33333333,  56.66666667,  60.        ,  63.33333333,\n",
              "         66.66666667,  70.        ,  73.33333333,  76.66666667,\n",
              "         80.        ,  83.33333333,  86.66666667,  90.        ,\n",
              "         93.33333333,  96.66666667, 100.        ]),\n",
              " <a list of 30 Patch objects>)"
            ]
          },
          "metadata": {},
          "execution_count": 19
        },
        {
          "output_type": "display_data",
          "data": {
            "text/plain": [
              "<Figure size 432x288 with 1 Axes>"
            ],
            "image/png": "[encoded data removed]"
          },
          "metadata": {
            "needs_background": "light"
          }
        }
      ]
    },
    {
      "cell_type": "code",
      "source": [
        "#@markdown Scatter plot: >>plt.scatter(x,y)\n",
        "y = range(1,101)\n",
        "# plt.scatter(x, y)\n",
        "\n",
        "plt.scatter(x, y)\n"
      ],
      "metadata": {
        "colab": {
          "base_uri": "https://localhost:8080/",
          "height": 283
        },
        "id": "IBW013MfpDD1",
        "outputId": "a1cfad11-918a-46d7-f7ed-f68746972eb8"
      },
      "execution_count": 24,
      "outputs": [
        {
          "output_type": "execute_result",
          "data": {
            "text/plain": [
              "<matplotlib.collections.PathCollection at 0x7f161699d7d0>"
            ]
          },
          "metadata": {},
          "execution_count": 24
        },
        {
          "output_type": "display_data",
          "data": {
            "text/plain": [
              "<Figure size 432x288 with 1 Axes>"
            ],
            "image/png": "[encoded data removed]"
          },
          "metadata": {
            "needs_background": "light"
          }
        }
      ]
    },
    {
      "cell_type": "code",
      "execution_count": null,
      "metadata": {
        "id": "ir73BwFpgAdF"
      },
      "outputs": [],
      "source": [
        "#@markdown Practice data set: Iris data\n",
        "\n"
      ]
    }
  ]
}