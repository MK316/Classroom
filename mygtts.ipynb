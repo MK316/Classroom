{
  "nbformat": 4,
  "nbformat_minor": 0,
  "metadata": {
    "colab": {
      "provenance": [],
      "authorship_tag": "ABX9TyOU9MBwNw9s22aiwp7pdcU0",
      "include_colab_link": true
    },
    "kernelspec": {
      "name": "python3",
      "display_name": "Python 3"
    },
    "language_info": {
      "name": "python"
    }
  },
  "cells": [
    {
      "cell_type": "markdown",
      "metadata": {
        "id": "view-in-github",
        "colab_type": "text"
      },
      "source": [
        "<a href=\"https://colab.research.google.com/github/MK316/Classroom/blob/main/mygtts.ipynb\" target=\"_parent\"><img src=\"https://colab.research.google.com/assets/colab-badge.svg\" alt=\"Open In Colab\"/></a>"
      ]
    },
    {
      "cell_type": "markdown",
      "source": [
        "#Building an application with gTTS for my class"
      ],
      "metadata": {
        "id": "pourYdWSBVNx"
      }
    },
    {
      "cell_type": "code",
      "execution_count": null,
      "metadata": {
        "id": "eDDO1Zk1BMwX"
      },
      "outputs": [],
      "source": [
        "!pip install gtts\n",
        "from gtts import gTTS\n",
        "from IPython.display import Audio, display\n",
        "import pandas as pd"
      ]
    },
    {
      "cell_type": "code",
      "source": [
        "def etts(txt):\n",
        "  tts = gTTS(txt, lang='en')\n",
        "  tts.save(\"E-audio.mp3\")\n",
        "  return Audio(\"/content/E-audio.mp3\")\n",
        "\n",
        "def ktts(txt):\n",
        "  tts = gTTS(txt, lang='ko')\n",
        "  tts.save(\"K-audio.mp3\")\n",
        "  return Audio(\"/content/K-audio.mp3\")"
      ],
      "metadata": {
        "id": "rn_2UO3TB-jT"
      },
      "execution_count": 3,
      "outputs": []
    },
    {
      "cell_type": "code",
      "source": [
        "mytxt = \"It's raining outside.\"\n",
        "etts(mytxt)"
      ],
      "metadata": {
        "colab": {
          "base_uri": "https://localhost:8080/",
          "height": 74
        },
        "id": "nvINsR5TCXCN",
        "outputId": "4757cf3d-f399-4a0a-dd6f-7f38bffe1dc1"
      },
      "execution_count": 4,
      "outputs": [
        {
          "output_type": "execute_result",
          "data": {
            "text/plain": [
              "<IPython.lib.display.Audio object>"
            ],
            "text/html": [
              "\n",
              "                <audio  controls=\"controls\" >\n",
              "                    <source src=\"data:audio/mpeg;base64,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\" type=\"audio/mpeg\" />\n",
              "                    Your browser does not support the audio element.\n",
              "                </audio>\n",
              "              "
            ]
          },
          "metadata": {},
          "execution_count": 4
        }
      ]
    },
    {
      "cell_type": "code",
      "source": [
        "mytxt = input(\"Type your text: \")\n",
        "etts(mytxt)"
      ],
      "metadata": {
        "colab": {
          "base_uri": "https://localhost:8080/",
          "height": 92
        },
        "id": "Sp5HtLAGCq4c",
        "outputId": "809e1cb6-9440-490d-b5b6-32a3b5f2cd6d"
      },
      "execution_count": 10,
      "outputs": [
        {
          "name": "stdout",
          "output_type": "stream",
          "text": [
            "Type your text: It's raining outside and I'm happy.\n"
          ]
        },
        {
          "output_type": "execute_result",
          "data": {
            "text/plain": [
              "<IPython.lib.display.Audio object>"
            ],
            "text/html": [
              "\n",
              "                <audio  controls=\"controls\" >\n",
              "                    <source src=\"data:audio/mpeg;base64,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\" type=\"audio/mpeg\" />\n",
              "                    Your browser does not support the audio element.\n",
              "                </audio>\n",
              "              "
            ]
          },
          "metadata": {},
          "execution_count": 10
        }
      ]
    }
  ]
}