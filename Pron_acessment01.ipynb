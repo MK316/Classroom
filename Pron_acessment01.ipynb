{
  "nbformat": 4,
  "nbformat_minor": 0,
  "metadata": {
    "colab": {
      "name": "Pron_acessment01.ipynb",
      "provenance": [],
      "authorship_tag": "ABX9TyPKGVqAwFQEOfojeRAcBPRq",
      "include_colab_link": true
    },
    "kernelspec": {
      "name": "python3",
      "display_name": "Python 3"
    },
    "language_info": {
      "name": "python"
    }
  },
  "cells": [
    {
      "cell_type": "markdown",
      "metadata": {
        "id": "view-in-github",
        "colab_type": "text"
      },
      "source": [
        "<a href=\"https://colab.research.google.com/github/MK316/Classroom/blob/main/Pron_acessment01.ipynb\" target=\"_parent\"><img src=\"https://colab.research.google.com/assets/colab-badge.svg\" alt=\"Open In Colab\"/></a>"
      ]
    },
    {
      "cell_type": "markdown",
      "source": [
        "# Pronunciation assessment:"
      ],
      "metadata": {
        "id": "De6WuOjYIehb"
      }
    },
    {
      "cell_type": "code",
      "source": [
        "import pandas as pd"
      ],
      "metadata": {
        "id": "5ClvXuvFNJ0B"
      },
      "execution_count": 5,
      "outputs": []
    },
    {
      "cell_type": "code",
      "source": [
        "#@markdown Date to read\n",
        "url = \"https://raw.githubusercontent.com/MK316/Classroom/main/classdata/PASS01_data.csv\"\n",
        "df = pd.read_csv(url)\n",
        "df.head()"
      ],
      "metadata": {
        "colab": {
          "base_uri": "https://localhost:8080/",
          "height": 145
        },
        "id": "9unrJ7ojMkXf",
        "outputId": "12617337-ab65-44d4-dd8e-f880a71c9d49"
      },
      "execution_count": 12,
      "outputs": [
        {
          "output_type": "execute_result",
          "data": {
            "text/plain": [
              "  Name   PW         Level Consonant   Vowels Stress Schwa Functionwords  \\\n",
              "0  KMR  123  Intermediate        LD  1,2,5,6     SD     M             L   \n",
              "\n",
              "  Intonation ThGroup  Tone KAccent Tapping Aspiration     FinalC  \n",
              "0          L    Good  Mono       M    Good          M  Insertion  "
            ],
            "text/html": [
              "\n",
              "  <div id=\"df-45de160a-a358-46b6-84e4-13c8c70f1350\">\n",
              "    <div class=\"colab-df-container\">\n",
              "      <div>\n",
              "<style scoped>\n",
              "    .dataframe tbody tr th:only-of-type {\n",
              "        vertical-align: middle;\n",
              "    }\n",
              "\n",
              "    .dataframe tbody tr th {\n",
              "        vertical-align: top;\n",
              "    }\n",
              "\n",
              "    .dataframe thead th {\n",
              "        text-align: right;\n",
              "    }\n",
              "</style>\n",
              "<table border=\"1\" class=\"dataframe\">\n",
              "  <thead>\n",
              "    <tr style=\"text-align: right;\">\n",
              "      <th></th>\n",
              "      <th>Name</th>\n",
              "      <th>PW</th>\n",
              "      <th>Level</th>\n",
              "      <th>Consonant</th>\n",
              "      <th>Vowels</th>\n",
              "      <th>Stress</th>\n",
              "      <th>Schwa</th>\n",
              "      <th>Functionwords</th>\n",
              "      <th>Intonation</th>\n",
              "      <th>ThGroup</th>\n",
              "      <th>Tone</th>\n",
              "      <th>KAccent</th>\n",
              "      <th>Tapping</th>\n",
              "      <th>Aspiration</th>\n",
              "      <th>FinalC</th>\n",
              "    </tr>\n",
              "  </thead>\n",
              "  <tbody>\n",
              "    <tr>\n",
              "      <th>0</th>\n",
              "      <td>KMR</td>\n",
              "      <td>123</td>\n",
              "      <td>Intermediate</td>\n",
              "      <td>LD</td>\n",
              "      <td>1,2,5,6</td>\n",
              "      <td>SD</td>\n",
              "      <td>M</td>\n",
              "      <td>L</td>\n",
              "      <td>L</td>\n",
              "      <td>Good</td>\n",
              "      <td>Mono</td>\n",
              "      <td>M</td>\n",
              "      <td>Good</td>\n",
              "      <td>M</td>\n",
              "      <td>Insertion</td>\n",
              "    </tr>\n",
              "  </tbody>\n",
              "</table>\n",
              "</div>\n",
              "      <button class=\"colab-df-convert\" onclick=\"convertToInteractive('df-45de160a-a358-46b6-84e4-13c8c70f1350')\"\n",
              "              title=\"Convert this dataframe to an interactive table.\"\n",
              "              style=\"display:none;\">\n",
              "        \n",
              "  <svg xmlns=\"http://www.w3.org/2000/svg\" height=\"24px\"viewBox=\"0 0 24 24\"\n",
              "       width=\"24px\">\n",
              "    <path d=\"M0 0h24v24H0V0z\" fill=\"none\"/>\n",
              "    <path d=\"M18.56 5.44l.94 2.06.94-2.06 2.06-.94-2.06-.94-.94-2.06-.94 2.06-2.06.94zm-11 1L8.5 8.5l.94-2.06 2.06-.94-2.06-.94L8.5 2.5l-.94 2.06-2.06.94zm10 10l.94 2.06.94-2.06 2.06-.94-2.06-.94-.94-2.06-.94 2.06-2.06.94z\"/><path d=\"M17.41 7.96l-1.37-1.37c-.4-.4-.92-.59-1.43-.59-.52 0-1.04.2-1.43.59L10.3 9.45l-7.72 7.72c-.78.78-.78 2.05 0 2.83L4 21.41c.39.39.9.59 1.41.59.51 0 1.02-.2 1.41-.59l7.78-7.78 2.81-2.81c.8-.78.8-2.07 0-2.86zM5.41 20L4 18.59l7.72-7.72 1.47 1.35L5.41 20z\"/>\n",
              "  </svg>\n",
              "      </button>\n",
              "      \n",
              "  <style>\n",
              "    .colab-df-container {\n",
              "      display:flex;\n",
              "      flex-wrap:wrap;\n",
              "      gap: 12px;\n",
              "    }\n",
              "\n",
              "    .colab-df-convert {\n",
              "      background-color: #E8F0FE;\n",
              "      border: none;\n",
              "      border-radius: 50%;\n",
              "      cursor: pointer;\n",
              "      display: none;\n",
              "      fill: #1967D2;\n",
              "      height: 32px;\n",
              "      padding: 0 0 0 0;\n",
              "      width: 32px;\n",
              "    }\n",
              "\n",
              "    .colab-df-convert:hover {\n",
              "      background-color: #E2EBFA;\n",
              "      box-shadow: 0px 1px 2px rgba(60, 64, 67, 0.3), 0px 1px 3px 1px rgba(60, 64, 67, 0.15);\n",
              "      fill: #174EA6;\n",
              "    }\n",
              "\n",
              "    [theme=dark] .colab-df-convert {\n",
              "      background-color: #3B4455;\n",
              "      fill: #D2E3FC;\n",
              "    }\n",
              "\n",
              "    [theme=dark] .colab-df-convert:hover {\n",
              "      background-color: #434B5C;\n",
              "      box-shadow: 0px 1px 3px 1px rgba(0, 0, 0, 0.15);\n",
              "      filter: drop-shadow(0px 1px 2px rgba(0, 0, 0, 0.3));\n",
              "      fill: #FFFFFF;\n",
              "    }\n",
              "  </style>\n",
              "\n",
              "      <script>\n",
              "        const buttonEl =\n",
              "          document.querySelector('#df-45de160a-a358-46b6-84e4-13c8c70f1350 button.colab-df-convert');\n",
              "        buttonEl.style.display =\n",
              "          google.colab.kernel.accessAllowed ? 'block' : 'none';\n",
              "\n",
              "        async function convertToInteractive(key) {\n",
              "          const element = document.querySelector('#df-45de160a-a358-46b6-84e4-13c8c70f1350');\n",
              "          const dataTable =\n",
              "            await google.colab.kernel.invokeFunction('convertToInteractive',\n",
              "                                                     [key], {});\n",
              "          if (!dataTable) return;\n",
              "\n",
              "          const docLinkHtml = 'Like what you see? Visit the ' +\n",
              "            '<a target=\"_blank\" href=https://colab.research.google.com/notebooks/data_table.ipynb>data table notebook</a>'\n",
              "            + ' to learn more about interactive tables.';\n",
              "          element.innerHTML = '';\n",
              "          dataTable['output_type'] = 'display_data';\n",
              "          await google.colab.output.renderOutput(dataTable, element);\n",
              "          const docLink = document.createElement('div');\n",
              "          docLink.innerHTML = docLinkHtml;\n",
              "          element.appendChild(docLink);\n",
              "        }\n",
              "      </script>\n",
              "    </div>\n",
              "  </div>\n",
              "  "
            ]
          },
          "metadata": {},
          "execution_count": 12
        }
      ]
    },
    {
      "cell_type": "code",
      "source": [
        "#@markdown Type your passcode below:\n",
        "passcode = input()\n",
        "\n",
        "pw = int(passcode)\n",
        "yours = df[df['PW'] == pw]\n",
        "yours"
      ],
      "metadata": {
        "colab": {
          "base_uri": "https://localhost:8080/",
          "height": 162
        },
        "id": "hzgrXt8EN7Mo",
        "outputId": "298b36a4-25d4-4cd3-b9da-98b190981bd5"
      },
      "execution_count": 21,
      "outputs": [
        {
          "name": "stdout",
          "output_type": "stream",
          "text": [
            "123\n"
          ]
        },
        {
          "output_type": "execute_result",
          "data": {
            "text/plain": [
              "  Name   PW         Level Consonant   Vowels Stress Schwa Functionwords  \\\n",
              "0  KMR  123  Intermediate        LD  1,2,5,6     SD     M             L   \n",
              "\n",
              "  Intonation ThGroup  Tone KAccent Tapping Aspiration     FinalC  \n",
              "0          L    Good  Mono       M    Good          M  Insertion  "
            ],
            "text/html": [
              "\n",
              "  <div id=\"df-d9692617-714e-46dc-8fe8-75041e9c5fda\">\n",
              "    <div class=\"colab-df-container\">\n",
              "      <div>\n",
              "<style scoped>\n",
              "    .dataframe tbody tr th:only-of-type {\n",
              "        vertical-align: middle;\n",
              "    }\n",
              "\n",
              "    .dataframe tbody tr th {\n",
              "        vertical-align: top;\n",
              "    }\n",
              "\n",
              "    .dataframe thead th {\n",
              "        text-align: right;\n",
              "    }\n",
              "</style>\n",
              "<table border=\"1\" class=\"dataframe\">\n",
              "  <thead>\n",
              "    <tr style=\"text-align: right;\">\n",
              "      <th></th>\n",
              "      <th>Name</th>\n",
              "      <th>PW</th>\n",
              "      <th>Level</th>\n",
              "      <th>Consonant</th>\n",
              "      <th>Vowels</th>\n",
              "      <th>Stress</th>\n",
              "      <th>Schwa</th>\n",
              "      <th>Functionwords</th>\n",
              "      <th>Intonation</th>\n",
              "      <th>ThGroup</th>\n",
              "      <th>Tone</th>\n",
              "      <th>KAccent</th>\n",
              "      <th>Tapping</th>\n",
              "      <th>Aspiration</th>\n",
              "      <th>FinalC</th>\n",
              "    </tr>\n",
              "  </thead>\n",
              "  <tbody>\n",
              "    <tr>\n",
              "      <th>0</th>\n",
              "      <td>KMR</td>\n",
              "      <td>123</td>\n",
              "      <td>Intermediate</td>\n",
              "      <td>LD</td>\n",
              "      <td>1,2,5,6</td>\n",
              "      <td>SD</td>\n",
              "      <td>M</td>\n",
              "      <td>L</td>\n",
              "      <td>L</td>\n",
              "      <td>Good</td>\n",
              "      <td>Mono</td>\n",
              "      <td>M</td>\n",
              "      <td>Good</td>\n",
              "      <td>M</td>\n",
              "      <td>Insertion</td>\n",
              "    </tr>\n",
              "  </tbody>\n",
              "</table>\n",
              "</div>\n",
              "      <button class=\"colab-df-convert\" onclick=\"convertToInteractive('df-d9692617-714e-46dc-8fe8-75041e9c5fda')\"\n",
              "              title=\"Convert this dataframe to an interactive table.\"\n",
              "              style=\"display:none;\">\n",
              "        \n",
              "  <svg xmlns=\"http://www.w3.org/2000/svg\" height=\"24px\"viewBox=\"0 0 24 24\"\n",
              "       width=\"24px\">\n",
              "    <path d=\"M0 0h24v24H0V0z\" fill=\"none\"/>\n",
              "    <path d=\"M18.56 5.44l.94 2.06.94-2.06 2.06-.94-2.06-.94-.94-2.06-.94 2.06-2.06.94zm-11 1L8.5 8.5l.94-2.06 2.06-.94-2.06-.94L8.5 2.5l-.94 2.06-2.06.94zm10 10l.94 2.06.94-2.06 2.06-.94-2.06-.94-.94-2.06-.94 2.06-2.06.94z\"/><path d=\"M17.41 7.96l-1.37-1.37c-.4-.4-.92-.59-1.43-.59-.52 0-1.04.2-1.43.59L10.3 9.45l-7.72 7.72c-.78.78-.78 2.05 0 2.83L4 21.41c.39.39.9.59 1.41.59.51 0 1.02-.2 1.41-.59l7.78-7.78 2.81-2.81c.8-.78.8-2.07 0-2.86zM5.41 20L4 18.59l7.72-7.72 1.47 1.35L5.41 20z\"/>\n",
              "  </svg>\n",
              "      </button>\n",
              "      \n",
              "  <style>\n",
              "    .colab-df-container {\n",
              "      display:flex;\n",
              "      flex-wrap:wrap;\n",
              "      gap: 12px;\n",
              "    }\n",
              "\n",
              "    .colab-df-convert {\n",
              "      background-color: #E8F0FE;\n",
              "      border: none;\n",
              "      border-radius: 50%;\n",
              "      cursor: pointer;\n",
              "      display: none;\n",
              "      fill: #1967D2;\n",
              "      height: 32px;\n",
              "      padding: 0 0 0 0;\n",
              "      width: 32px;\n",
              "    }\n",
              "\n",
              "    .colab-df-convert:hover {\n",
              "      background-color: #E2EBFA;\n",
              "      box-shadow: 0px 1px 2px rgba(60, 64, 67, 0.3), 0px 1px 3px 1px rgba(60, 64, 67, 0.15);\n",
              "      fill: #174EA6;\n",
              "    }\n",
              "\n",
              "    [theme=dark] .colab-df-convert {\n",
              "      background-color: #3B4455;\n",
              "      fill: #D2E3FC;\n",
              "    }\n",
              "\n",
              "    [theme=dark] .colab-df-convert:hover {\n",
              "      background-color: #434B5C;\n",
              "      box-shadow: 0px 1px 3px 1px rgba(0, 0, 0, 0.15);\n",
              "      filter: drop-shadow(0px 1px 2px rgba(0, 0, 0, 0.3));\n",
              "      fill: #FFFFFF;\n",
              "    }\n",
              "  </style>\n",
              "\n",
              "      <script>\n",
              "        const buttonEl =\n",
              "          document.querySelector('#df-d9692617-714e-46dc-8fe8-75041e9c5fda button.colab-df-convert');\n",
              "        buttonEl.style.display =\n",
              "          google.colab.kernel.accessAllowed ? 'block' : 'none';\n",
              "\n",
              "        async function convertToInteractive(key) {\n",
              "          const element = document.querySelector('#df-d9692617-714e-46dc-8fe8-75041e9c5fda');\n",
              "          const dataTable =\n",
              "            await google.colab.kernel.invokeFunction('convertToInteractive',\n",
              "                                                     [key], {});\n",
              "          if (!dataTable) return;\n",
              "\n",
              "          const docLinkHtml = 'Like what you see? Visit the ' +\n",
              "            '<a target=\"_blank\" href=https://colab.research.google.com/notebooks/data_table.ipynb>data table notebook</a>'\n",
              "            + ' to learn more about interactive tables.';\n",
              "          element.innerHTML = '';\n",
              "          dataTable['output_type'] = 'display_data';\n",
              "          await google.colab.output.renderOutput(dataTable, element);\n",
              "          const docLink = document.createElement('div');\n",
              "          docLink.innerHTML = docLinkHtml;\n",
              "          element.appendChild(docLink);\n",
              "        }\n",
              "      </script>\n",
              "    </div>\n",
              "  </div>\n",
              "  "
            ]
          },
          "metadata": {},
          "execution_count": 21
        }
      ]
    },
    {
      "cell_type": "code",
      "source": [
        "\n",
        "pc1 = df['PW'].tolist()\n",
        "print(passcode)"
      ],
      "metadata": {
        "colab": {
          "base_uri": "https://localhost:8080/"
        },
        "id": "x8KbeJ2bPILb",
        "outputId": "648aa4b5-5a11-40ed-db4b-37c51e9a31fb"
      },
      "execution_count": 29,
      "outputs": [
        {
          "output_type": "stream",
          "name": "stdout",
          "text": [
            "123\n"
          ]
        }
      ]
    },
    {
      "cell_type": "code",
      "source": [
        "words = df['PW']\n",
        "result = [w for w in words if re.search(passcode)]\n",
        "result"
      ],
      "metadata": {
        "colab": {
          "base_uri": "https://localhost:8080/"
        },
        "id": "0qBZRUoBQsow",
        "outputId": "d95182aa-3c79-43b0-a7f7-098c357928aa"
      },
      "execution_count": 31,
      "outputs": [
        {
          "output_type": "execute_result",
          "data": {
            "text/plain": [
              "[]"
            ]
          },
          "metadata": {},
          "execution_count": 31
        }
      ]
    },
    {
      "cell_type": "code",
      "source": [
        "\n",
        "for pc in pc1:\n",
        "  if pc = passcode:\n",
        "    print('Wait a moment')\n",
        "  else:\n",
        "    print('No matching passcode. Try again.')"
      ],
      "metadata": {
        "id": "M5HxTzStQ1lq"
      },
      "execution_count": null,
      "outputs": []
    },
    {
      "cell_type": "code",
      "source": [
        "indcode = [pd]\n",
        "for pc in "
      ],
      "metadata": {
        "id": "p8q6vtXHO31R"
      },
      "execution_count": null,
      "outputs": []
    },
    {
      "cell_type": "code",
      "source": [
        ""
      ],
      "metadata": {
        "colab": {
          "base_uri": "https://localhost:8080/",
          "height": 145
        },
        "id": "G-OQKAi3OAkV",
        "outputId": "ec3a924b-5adb-411c-88c0-319c429b8fb4"
      },
      "execution_count": 20,
      "outputs": [
        {
          "output_type": "execute_result",
          "data": {
            "text/plain": [
              "  Name   PW         Level Consonant   Vowels Stress Schwa Functionwords  \\\n",
              "0  KMR  123  Intermediate        LD  1,2,5,6     SD     M             L   \n",
              "\n",
              "  Intonation ThGroup  Tone KAccent Tapping Aspiration     FinalC  \n",
              "0          L    Good  Mono       M    Good          M  Insertion  "
            ],
            "text/html": [
              "\n",
              "  <div id=\"df-368821c8-69c8-4b60-9bc5-38031713ca8e\">\n",
              "    <div class=\"colab-df-container\">\n",
              "      <div>\n",
              "<style scoped>\n",
              "    .dataframe tbody tr th:only-of-type {\n",
              "        vertical-align: middle;\n",
              "    }\n",
              "\n",
              "    .dataframe tbody tr th {\n",
              "        vertical-align: top;\n",
              "    }\n",
              "\n",
              "    .dataframe thead th {\n",
              "        text-align: right;\n",
              "    }\n",
              "</style>\n",
              "<table border=\"1\" class=\"dataframe\">\n",
              "  <thead>\n",
              "    <tr style=\"text-align: right;\">\n",
              "      <th></th>\n",
              "      <th>Name</th>\n",
              "      <th>PW</th>\n",
              "      <th>Level</th>\n",
              "      <th>Consonant</th>\n",
              "      <th>Vowels</th>\n",
              "      <th>Stress</th>\n",
              "      <th>Schwa</th>\n",
              "      <th>Functionwords</th>\n",
              "      <th>Intonation</th>\n",
              "      <th>ThGroup</th>\n",
              "      <th>Tone</th>\n",
              "      <th>KAccent</th>\n",
              "      <th>Tapping</th>\n",
              "      <th>Aspiration</th>\n",
              "      <th>FinalC</th>\n",
              "    </tr>\n",
              "  </thead>\n",
              "  <tbody>\n",
              "    <tr>\n",
              "      <th>0</th>\n",
              "      <td>KMR</td>\n",
              "      <td>123</td>\n",
              "      <td>Intermediate</td>\n",
              "      <td>LD</td>\n",
              "      <td>1,2,5,6</td>\n",
              "      <td>SD</td>\n",
              "      <td>M</td>\n",
              "      <td>L</td>\n",
              "      <td>L</td>\n",
              "      <td>Good</td>\n",
              "      <td>Mono</td>\n",
              "      <td>M</td>\n",
              "      <td>Good</td>\n",
              "      <td>M</td>\n",
              "      <td>Insertion</td>\n",
              "    </tr>\n",
              "  </tbody>\n",
              "</table>\n",
              "</div>\n",
              "      <button class=\"colab-df-convert\" onclick=\"convertToInteractive('df-368821c8-69c8-4b60-9bc5-38031713ca8e')\"\n",
              "              title=\"Convert this dataframe to an interactive table.\"\n",
              "              style=\"display:none;\">\n",
              "        \n",
              "  <svg xmlns=\"http://www.w3.org/2000/svg\" height=\"24px\"viewBox=\"0 0 24 24\"\n",
              "       width=\"24px\">\n",
              "    <path d=\"M0 0h24v24H0V0z\" fill=\"none\"/>\n",
              "    <path d=\"M18.56 5.44l.94 2.06.94-2.06 2.06-.94-2.06-.94-.94-2.06-.94 2.06-2.06.94zm-11 1L8.5 8.5l.94-2.06 2.06-.94-2.06-.94L8.5 2.5l-.94 2.06-2.06.94zm10 10l.94 2.06.94-2.06 2.06-.94-2.06-.94-.94-2.06-.94 2.06-2.06.94z\"/><path d=\"M17.41 7.96l-1.37-1.37c-.4-.4-.92-.59-1.43-.59-.52 0-1.04.2-1.43.59L10.3 9.45l-7.72 7.72c-.78.78-.78 2.05 0 2.83L4 21.41c.39.39.9.59 1.41.59.51 0 1.02-.2 1.41-.59l7.78-7.78 2.81-2.81c.8-.78.8-2.07 0-2.86zM5.41 20L4 18.59l7.72-7.72 1.47 1.35L5.41 20z\"/>\n",
              "  </svg>\n",
              "      </button>\n",
              "      \n",
              "  <style>\n",
              "    .colab-df-container {\n",
              "      display:flex;\n",
              "      flex-wrap:wrap;\n",
              "      gap: 12px;\n",
              "    }\n",
              "\n",
              "    .colab-df-convert {\n",
              "      background-color: #E8F0FE;\n",
              "      border: none;\n",
              "      border-radius: 50%;\n",
              "      cursor: pointer;\n",
              "      display: none;\n",
              "      fill: #1967D2;\n",
              "      height: 32px;\n",
              "      padding: 0 0 0 0;\n",
              "      width: 32px;\n",
              "    }\n",
              "\n",
              "    .colab-df-convert:hover {\n",
              "      background-color: #E2EBFA;\n",
              "      box-shadow: 0px 1px 2px rgba(60, 64, 67, 0.3), 0px 1px 3px 1px rgba(60, 64, 67, 0.15);\n",
              "      fill: #174EA6;\n",
              "    }\n",
              "\n",
              "    [theme=dark] .colab-df-convert {\n",
              "      background-color: #3B4455;\n",
              "      fill: #D2E3FC;\n",
              "    }\n",
              "\n",
              "    [theme=dark] .colab-df-convert:hover {\n",
              "      background-color: #434B5C;\n",
              "      box-shadow: 0px 1px 3px 1px rgba(0, 0, 0, 0.15);\n",
              "      filter: drop-shadow(0px 1px 2px rgba(0, 0, 0, 0.3));\n",
              "      fill: #FFFFFF;\n",
              "    }\n",
              "  </style>\n",
              "\n",
              "      <script>\n",
              "        const buttonEl =\n",
              "          document.querySelector('#df-368821c8-69c8-4b60-9bc5-38031713ca8e button.colab-df-convert');\n",
              "        buttonEl.style.display =\n",
              "          google.colab.kernel.accessAllowed ? 'block' : 'none';\n",
              "\n",
              "        async function convertToInteractive(key) {\n",
              "          const element = document.querySelector('#df-368821c8-69c8-4b60-9bc5-38031713ca8e');\n",
              "          const dataTable =\n",
              "            await google.colab.kernel.invokeFunction('convertToInteractive',\n",
              "                                                     [key], {});\n",
              "          if (!dataTable) return;\n",
              "\n",
              "          const docLinkHtml = 'Like what you see? Visit the ' +\n",
              "            '<a target=\"_blank\" href=https://colab.research.google.com/notebooks/data_table.ipynb>data table notebook</a>'\n",
              "            + ' to learn more about interactive tables.';\n",
              "          element.innerHTML = '';\n",
              "          dataTable['output_type'] = 'display_data';\n",
              "          await google.colab.output.renderOutput(dataTable, element);\n",
              "          const docLink = document.createElement('div');\n",
              "          docLink.innerHTML = docLinkHtml;\n",
              "          element.appendChild(docLink);\n",
              "        }\n",
              "      </script>\n",
              "    </div>\n",
              "  </div>\n",
              "  "
            ]
          },
          "metadata": {},
          "execution_count": 20
        }
      ]
    },
    {
      "cell_type": "markdown",
      "source": [
        "# Audio feedback"
      ],
      "metadata": {
        "id": "x9SLQ_9sIwQI"
      }
    },
    {
      "cell_type": "code",
      "execution_count": 1,
      "metadata": {
        "colab": {
          "base_uri": "https://localhost:8080/"
        },
        "id": "4uovKmi0IY7B",
        "outputId": "40ada038-1f01-4aff-9c55-d1ace848b70a"
      },
      "outputs": [
        {
          "output_type": "stream",
          "name": "stdout",
          "text": [
            "Collecting gTTS\n",
            "  Downloading gTTS-2.2.4-py3-none-any.whl (26 kB)\n",
            "Requirement already satisfied: requests in /usr/local/lib/python3.7/dist-packages (from gTTS) (2.23.0)\n",
            "Requirement already satisfied: six in /usr/local/lib/python3.7/dist-packages (from gTTS) (1.15.0)\n",
            "Requirement already satisfied: click in /usr/local/lib/python3.7/dist-packages (from gTTS) (7.1.2)\n",
            "Requirement already satisfied: urllib3!=1.25.0,!=1.25.1,<1.26,>=1.21.1 in /usr/local/lib/python3.7/dist-packages (from requests->gTTS) (1.24.3)\n",
            "Requirement already satisfied: idna<3,>=2.5 in /usr/local/lib/python3.7/dist-packages (from requests->gTTS) (2.10)\n",
            "Requirement already satisfied: certifi>=2017.4.17 in /usr/local/lib/python3.7/dist-packages (from requests->gTTS) (2021.10.8)\n",
            "Requirement already satisfied: chardet<4,>=3.0.2 in /usr/local/lib/python3.7/dist-packages (from requests->gTTS) (3.0.4)\n",
            "Installing collected packages: gTTS\n",
            "Successfully installed gTTS-2.2.4\n"
          ]
        }
      ],
      "source": [
        "#@markdown 🚩 Step ⓿ {gTTS} package installation and import\n",
        "!pip install gTTS\n",
        "from gtts import gTTS\n",
        "from IPython.display import Audio"
      ]
    },
    {
      "cell_type": "code",
      "source": [
        "#@markdown Step ⓵ Type text to say\n",
        "text_to_say = input()"
      ],
      "metadata": {
        "colab": {
          "base_uri": "https://localhost:8080/"
        },
        "id": "SwN7IH03I2Rr",
        "outputId": "083b991a-7ff6-47cb-9683-74bacd3b1732"
      },
      "execution_count": 2,
      "outputs": [
        {
          "name": "stdout",
          "output_type": "stream",
          "text": [
            "전반적으로 'intermediate' 레벨에 속합니다. 자음 중에는 'th'와 'f, v' 발음을 더 연습해야 합니다. 모음은 3, 5, 6번에 더 신경써야 합니다.\n"
          ]
        }
      ]
    },
    {
      "cell_type": "code",
      "source": [
        "#@markdown Step ⓶ Language setting (english)\n",
        "# language = \"en\"\n",
        "# gtts_object = gTTS(text = text_to_say,\n",
        "#                    lang = language,\n",
        "#                    slow = False)\n",
        "\n",
        "\n",
        "language_to_choose =\"ko\" #@param [\"en\",\"ko\"]\n",
        "lang = language_to_choose\n",
        "\n",
        "print(\"Play language accent: %s\"%lang)\n",
        "language = lang\n",
        "gtts_object = gTTS(text = text_to_say,\n",
        "                   lang = language,\n",
        "                   slow = False)\n",
        "\n",
        "#@markdown Step ③: Create the audio file (.wav) to play:\n",
        "gtts_object.save(\"/content/feedback_\"+lang+\".wav\")\n",
        "\n",
        "Audio(\"/content/feedback_\"+lang+\".wav\")"
      ],
      "metadata": {
        "colab": {
          "base_uri": "https://localhost:8080/",
          "height": 93
        },
        "id": "sJFllyZkI5Oe",
        "outputId": "09f3f475-afff-43de-dcab-37023e093cf6"
      },
      "execution_count": 3,
      "outputs": [
        {
          "output_type": "stream",
          "name": "stdout",
          "text": [
            "Play language accent: ko\n"
          ]
        },
        {
          "output_type": "execute_result",
          "data": {
            "text/plain": [
              "<IPython.lib.display.Audio object>"
            ],
            "text/html": [
              "\n",
              "                <audio controls=\"controls\" >\n",
              "                    <source src=\"data:audio/x-wav;base64,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\" type=\"audio/x-wav\" />\n",
              "                    Your browser does not support the audio element.\n",
              "                </audio>\n",
              "              "
            ]
          },
          "metadata": {},
          "execution_count": 3
        }
      ]
    }
  ]
}